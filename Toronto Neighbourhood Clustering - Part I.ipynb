{
    "nbformat_minor": 2, 
    "cells": [
        {
            "source": "# Capstone Project - Segmenting and Clustering Neighborhoods in Toronto - Part 1", 
            "cell_type": "markdown", 
            "metadata": {}
        }, 
        {
            "source": "### Part 1 - Creation of Canada PostalCode DataFrame", 
            "cell_type": "markdown", 
            "metadata": {}
        }, 
        {
            "source": "a) Export canada postal code data from the wikipedia page to pandas dataframe", 
            "cell_type": "markdown", 
            "metadata": {}
        }, 
        {
            "execution_count": 1, 
            "cell_type": "code", 
            "metadata": {}, 
            "outputs": [], 
            "source": "# Importing Basic Libraries\n\nimport pandas as pd\nimport numpy as np\nimport matplotlib.pyplot as plt\n%matplotlib inline"
        }, 
        {
            "execution_count": 2, 
            "cell_type": "code", 
            "metadata": {}, 
            "outputs": [], 
            "source": "# Importing libraries to query website and scrap it\n\nfrom urllib.request import urlopen\nfrom bs4 import BeautifulSoup"
        }, 
        {
            "execution_count": 3, 
            "cell_type": "code", 
            "metadata": {}, 
            "outputs": [], 
            "source": "# Query the website and return the html to the variable 'webpage'\n\nwiki_url = \" https://en.wikipedia.org/wiki/List_of_postal_codes_of_Canada:_M\"\nwebpage = urlopen(wiki_url)"
        }, 
        {
            "execution_count": 4, 
            "cell_type": "code", 
            "metadata": {}, 
            "outputs": [
                {
                    "execution_count": 4, 
                    "metadata": {}, 
                    "data": {
                        "text/plain": "bs4.BeautifulSoup"
                    }, 
                    "output_type": "execute_result"
                }
            ], 
            "source": "# Parse the html in the 'webpage' variable, and store it in Beautiful Soup format\n\nsoup = BeautifulSoup(webpage, 'lxml')\ntype(soup)"
        }, 
        {
            "source": "Since there are more than one table in this wiki page, find the class of the required table to export data", 
            "cell_type": "markdown", 
            "metadata": {}
        }, 
        {
            "execution_count": 5, 
            "cell_type": "code", 
            "metadata": {}, 
            "outputs": [], 
            "source": "# look at nested structure of HTML page\n# print(soup.prettify())\n\n# find all the tables in the webpage\n\ndata_table = soup.find_all('table')\n# data_table --Commenting the line since the output is too large\n\n# find the right table\n\nright_table=soup.find('table', class_=\"wikitable sortable\")\n# right_table --Commenting the line since the output is too large"
        }, 
        {
            "execution_count": 6, 
            "cell_type": "code", 
            "metadata": {}, 
            "outputs": [
                {
                    "output_type": "stream", 
                    "name": "stdout", 
                    "text": "[<tr>\n<td>M8Z</td>\n<td><a href=\"/wiki/Etobicoke\" title=\"Etobicoke\">Etobicoke</a></td>\n<td>Royal York South West\n</td></tr>, <tr>\n<td>M8Z</td>\n<td><a href=\"/wiki/Etobicoke\" title=\"Etobicoke\">Etobicoke</a></td>\n<td>South of Bloor\n</td></tr>, <tr>\n<td>M9Z</td>\n<td>Not assigned</td>\n<td>Not assigned\n</td></tr>]\n"
                }
            ], 
            "source": "# Extract all table rows of the correct table and Print the last 3 rows for sanity check\n\nrows = right_table.find_all('tr')\nprint(rows[-3:])"
        }, 
        {
            "execution_count": 7, 
            "cell_type": "code", 
            "metadata": {}, 
            "outputs": [
                {
                    "output_type": "stream", 
                    "name": "stdout", 
                    "text": "[[<td>M8Z</td>, <td><a href=\"/wiki/Etobicoke\" title=\"Etobicoke\">Etobicoke</a></td>, <td>Royal York South West\n</td>], [<td>M8Z</td>, <td><a href=\"/wiki/Etobicoke\" title=\"Etobicoke\">Etobicoke</a></td>, <td>South of Bloor\n</td>], [<td>M9Z</td>, <td>Not assigned</td>, <td>Not assigned\n</td>]]\n"
                }
            ], 
            "source": "# iterate through table rows to form a list\n\nrow_list = []\nfor i,row in enumerate(rows):\n    row_list.append(row.find_all('td'))\nprint(row_list[-3:])\n# type(row_list)"
        }, 
        {
            "execution_count": 8, 
            "cell_type": "code", 
            "metadata": {}, 
            "outputs": [
                {
                    "output_type": "stream", 
                    "name": "stdout", 
                    "text": "['[M8Z, Etobicoke, Royal York South West\\n]', '[M8Z, Etobicoke, South of Bloor\\n]', '[M9Z, Not assigned, Not assigned\\n]']\n"
                }
            ], 
            "source": "# extract the text without html tags\n\nrow_list = []\nfor i,row in enumerate(rows):\n    list1 = row.find_all('td')\n    str_cells = str(list1)\n    cleantext = BeautifulSoup(str_cells, \"lxml\").get_text()\n    row_list.append(cleantext)\n\nprint(row_list[-3:])\n# print(cleantext)"
        }, 
        {
            "execution_count": 9, 
            "cell_type": "code", 
            "metadata": {}, 
            "outputs": [
                {
                    "execution_count": 9, 
                    "metadata": {}, 
                    "data": {
                        "text/html": "<div>\n<style scoped>\n    .dataframe tbody tr th:only-of-type {\n        vertical-align: middle;\n    }\n\n    .dataframe tbody tr th {\n        vertical-align: top;\n    }\n\n    .dataframe thead th {\n        text-align: right;\n    }\n</style>\n<table border=\"1\" class=\"dataframe\">\n  <thead>\n    <tr style=\"text-align: right;\">\n      <th></th>\n      <th>0</th>\n    </tr>\n  </thead>\n  <tbody>\n    <tr>\n      <th>0</th>\n      <td>[]</td>\n    </tr>\n    <tr>\n      <th>1</th>\n      <td>[M1A, Not assigned, Not assigned\\n]</td>\n    </tr>\n    <tr>\n      <th>2</th>\n      <td>[M2A, Not assigned, Not assigned\\n]</td>\n    </tr>\n    <tr>\n      <th>3</th>\n      <td>[M3A, North York, Parkwoods\\n]</td>\n    </tr>\n    <tr>\n      <th>4</th>\n      <td>[M4A, North York, Victoria Village\\n]</td>\n    </tr>\n    <tr>\n      <th>5</th>\n      <td>[M5A, Downtown Toronto, Harbourfront\\n]</td>\n    </tr>\n    <tr>\n      <th>6</th>\n      <td>[M5A, Downtown Toronto, Regent Park\\n]</td>\n    </tr>\n    <tr>\n      <th>7</th>\n      <td>[M6A, North York, Lawrence Heights\\n]</td>\n    </tr>\n    <tr>\n      <th>8</th>\n      <td>[M6A, North York, Lawrence Manor\\n]</td>\n    </tr>\n    <tr>\n      <th>9</th>\n      <td>[M7A, Queen's Park, Not assigned\\n]</td>\n    </tr>\n  </tbody>\n</table>\n</div>", 
                        "text/plain": "                                         0\n0                                       []\n1      [M1A, Not assigned, Not assigned\\n]\n2      [M2A, Not assigned, Not assigned\\n]\n3           [M3A, North York, Parkwoods\\n]\n4    [M4A, North York, Victoria Village\\n]\n5  [M5A, Downtown Toronto, Harbourfront\\n]\n6   [M5A, Downtown Toronto, Regent Park\\n]\n7    [M6A, North York, Lawrence Heights\\n]\n8      [M6A, North York, Lawrence Manor\\n]\n9      [M7A, Queen's Park, Not assigned\\n]"
                    }, 
                    "output_type": "execute_result"
                }
            ], 
            "source": "# Convert list into a dataframe\n\ntoronto_df = pd.DataFrame(row_list)\ntoronto_df.head(10)"
        }, 
        {
            "source": "b) Clean and format the dataframe to get data in the required form", 
            "cell_type": "markdown", 
            "metadata": {}
        }, 
        {
            "execution_count": 10, 
            "cell_type": "code", 
            "metadata": {}, 
            "outputs": [
                {
                    "execution_count": 10, 
                    "metadata": {}, 
                    "data": {
                        "text/html": "<div>\n<style scoped>\n    .dataframe tbody tr th:only-of-type {\n        vertical-align: middle;\n    }\n\n    .dataframe tbody tr th {\n        vertical-align: top;\n    }\n\n    .dataframe thead th {\n        text-align: right;\n    }\n</style>\n<table border=\"1\" class=\"dataframe\">\n  <thead>\n    <tr style=\"text-align: right;\">\n      <th></th>\n      <th>PostalCode</th>\n      <th>Borough</th>\n      <th>Neighbourhood</th>\n    </tr>\n  </thead>\n  <tbody>\n    <tr>\n      <th>1</th>\n      <td>M1A</td>\n      <td>Not assigned</td>\n      <td>Not assigned</td>\n    </tr>\n    <tr>\n      <th>2</th>\n      <td>M2A</td>\n      <td>Not assigned</td>\n      <td>Not assigned</td>\n    </tr>\n    <tr>\n      <th>3</th>\n      <td>M3A</td>\n      <td>North York</td>\n      <td>Parkwoods</td>\n    </tr>\n    <tr>\n      <th>4</th>\n      <td>M4A</td>\n      <td>North York</td>\n      <td>Victoria Village</td>\n    </tr>\n    <tr>\n      <th>5</th>\n      <td>M5A</td>\n      <td>Downtown Toronto</td>\n      <td>Harbourfront</td>\n    </tr>\n  </tbody>\n</table>\n</div>", 
                        "text/plain": "  PostalCode           Borough     Neighbourhood\n1        M1A      Not assigned      Not assigned\n2        M2A      Not assigned      Not assigned\n3        M3A        North York         Parkwoods\n4        M4A        North York  Victoria Village\n5        M5A  Downtown Toronto      Harbourfront"
                    }, 
                    "output_type": "execute_result"
                }
            ], 
            "source": "# Split and clean the df\n\n# Drop first row\ntoronto_df.drop(toronto_df.index[[0]],inplace=True)\n# Split the column into multiple columns\ntoronto_df1 = toronto_df[0].str.split(',', expand=True)\n# Strip the '[,\\n,]' characters from first and last columns\ntoronto_df1[0] = toronto_df1[0].str.strip('[')\ntoronto_df1[2] = toronto_df1[2].str.strip('\\n]')\n# Give column names\ntoronto_df1.columns = ['PostalCode','Borough','Neighbourhood']\n# Strip any leading/trailing spaces from the values\ntoronto_df1['PostalCode'] = toronto_df1['PostalCode'].str.strip()\ntoronto_df1['Borough'] = toronto_df1['Borough'].str.strip()\ntoronto_df1['Neighbourhood'] = toronto_df1['Neighbourhood'].str.strip()\ntoronto_df1.head()"
        }, 
        {
            "execution_count": 11, 
            "cell_type": "code", 
            "metadata": {}, 
            "outputs": [
                {
                    "output_type": "stream", 
                    "name": "stdout", 
                    "text": "(288, 3)\n"
                }, 
                {
                    "execution_count": 11, 
                    "metadata": {}, 
                    "data": {
                        "text/plain": "Not assigned        77\nEtobicoke           45\nNorth York          38\nScarborough         37\nDowntown Toronto    37\nCentral Toronto     17\nWest Toronto        13\nYork                 9\nEast Toronto         7\nEast York            6\nMississauga          1\nQueen's Park         1\nName: Borough, dtype: int64"
                    }, 
                    "output_type": "execute_result"
                }
            ], 
            "source": "# Remove all rows with 'No assigned' value for Borough\n\n# Rows before removal\nprint(toronto_df1.shape)\n\n#Value counts\ntoronto_df1['Borough'].value_counts()"
        }, 
        {
            "execution_count": 12, 
            "cell_type": "code", 
            "metadata": {}, 
            "outputs": [
                {
                    "output_type": "stream", 
                    "name": "stdout", 
                    "text": "(211, 3)\n"
                }, 
                {
                    "execution_count": 12, 
                    "metadata": {}, 
                    "data": {
                        "text/html": "<div>\n<style scoped>\n    .dataframe tbody tr th:only-of-type {\n        vertical-align: middle;\n    }\n\n    .dataframe tbody tr th {\n        vertical-align: top;\n    }\n\n    .dataframe thead th {\n        text-align: right;\n    }\n</style>\n<table border=\"1\" class=\"dataframe\">\n  <thead>\n    <tr style=\"text-align: right;\">\n      <th></th>\n      <th>PostalCode</th>\n      <th>Borough</th>\n      <th>Neighbourhood</th>\n    </tr>\n  </thead>\n  <tbody>\n    <tr>\n      <th>0</th>\n      <td>M3A</td>\n      <td>North York</td>\n      <td>Parkwoods</td>\n    </tr>\n    <tr>\n      <th>1</th>\n      <td>M4A</td>\n      <td>North York</td>\n      <td>Victoria Village</td>\n    </tr>\n    <tr>\n      <th>2</th>\n      <td>M5A</td>\n      <td>Downtown Toronto</td>\n      <td>Harbourfront</td>\n    </tr>\n    <tr>\n      <th>3</th>\n      <td>M5A</td>\n      <td>Downtown Toronto</td>\n      <td>Regent Park</td>\n    </tr>\n    <tr>\n      <th>4</th>\n      <td>M6A</td>\n      <td>North York</td>\n      <td>Lawrence Heights</td>\n    </tr>\n  </tbody>\n</table>\n</div>", 
                        "text/plain": "  PostalCode           Borough     Neighbourhood\n0        M3A        North York         Parkwoods\n1        M4A        North York  Victoria Village\n2        M5A  Downtown Toronto      Harbourfront\n3        M5A  Downtown Toronto       Regent Park\n4        M6A        North York  Lawrence Heights"
                    }, 
                    "output_type": "execute_result"
                }
            ], 
            "source": "# Remove 'no assigned' rows\n\ntoronto_Df2 = toronto_df1[toronto_df1['Borough'] != 'Not assigned']\n# reset index\ntoronto_Df2.reset_index(drop=True, inplace=True)\n# Rows after removal\nprint(toronto_Df2.shape)\n# See first five rows\ntoronto_Df2.head()"
        }, 
        {
            "execution_count": 14, 
            "cell_type": "code", 
            "metadata": {}, 
            "outputs": [
                {
                    "output_type": "stream", 
                    "name": "stderr", 
                    "text": "/opt/conda/envs/DSX-Python35/lib/python3.5/site-packages/ipykernel/__main__.py:5: SettingWithCopyWarning: \nA value is trying to be set on a copy of a slice from a DataFrame.\nTry using .loc[row_indexer,col_indexer] = value instead\n\nSee the caveats in the documentation: http://pandas.pydata.org/pandas-docs/stable/indexing.html#indexing-view-versus-copy\n"
                }, 
                {
                    "execution_count": 14, 
                    "metadata": {}, 
                    "data": {
                        "text/html": "<div>\n<style scoped>\n    .dataframe tbody tr th:only-of-type {\n        vertical-align: middle;\n    }\n\n    .dataframe tbody tr th {\n        vertical-align: top;\n    }\n\n    .dataframe thead th {\n        text-align: right;\n    }\n</style>\n<table border=\"1\" class=\"dataframe\">\n  <thead>\n    <tr style=\"text-align: right;\">\n      <th></th>\n      <th>PostalCode</th>\n      <th>Borough</th>\n      <th>Neighbourhood</th>\n    </tr>\n  </thead>\n  <tbody>\n    <tr>\n      <th>0</th>\n      <td>M3A</td>\n      <td>North York</td>\n      <td>Parkwoods</td>\n    </tr>\n    <tr>\n      <th>1</th>\n      <td>M4A</td>\n      <td>North York</td>\n      <td>Victoria Village</td>\n    </tr>\n    <tr>\n      <th>2</th>\n      <td>M5A</td>\n      <td>Downtown Toronto</td>\n      <td>Harbourfront</td>\n    </tr>\n    <tr>\n      <th>3</th>\n      <td>M5A</td>\n      <td>Downtown Toronto</td>\n      <td>Regent Park</td>\n    </tr>\n    <tr>\n      <th>4</th>\n      <td>M6A</td>\n      <td>North York</td>\n      <td>Lawrence Heights</td>\n    </tr>\n    <tr>\n      <th>5</th>\n      <td>M6A</td>\n      <td>North York</td>\n      <td>Lawrence Manor</td>\n    </tr>\n    <tr>\n      <th>6</th>\n      <td>M7A</td>\n      <td>Queen's Park</td>\n      <td>Queen's Park</td>\n    </tr>\n    <tr>\n      <th>7</th>\n      <td>M9A</td>\n      <td>Etobicoke</td>\n      <td>Islington Avenue</td>\n    </tr>\n    <tr>\n      <th>8</th>\n      <td>M1B</td>\n      <td>Scarborough</td>\n      <td>Rouge</td>\n    </tr>\n    <tr>\n      <th>9</th>\n      <td>M1B</td>\n      <td>Scarborough</td>\n      <td>Malvern</td>\n    </tr>\n  </tbody>\n</table>\n</div>", 
                        "text/plain": "  PostalCode           Borough     Neighbourhood\n0        M3A        North York         Parkwoods\n1        M4A        North York  Victoria Village\n2        M5A  Downtown Toronto      Harbourfront\n3        M5A  Downtown Toronto       Regent Park\n4        M6A        North York  Lawrence Heights\n5        M6A        North York    Lawrence Manor\n6        M7A      Queen's Park      Queen's Park\n7        M9A         Etobicoke  Islington Avenue\n8        M1B       Scarborough             Rouge\n9        M1B       Scarborough           Malvern"
                    }, 
                    "output_type": "execute_result"
                }
            ], 
            "source": "# Change the value of Neighborhood column to that of Borough column wherever no value is assigned e.g. Queen's Park Borugh(M7A)\n\ntoronto_Df2['Neighbourhood'] = toronto_Df2.apply(\n    lambda row: row['Borough'] if row['Neighbourhood'] == 'Not assigned' else row['Neighbourhood'],\n    axis=1\n)\ntoronto_Df2.head(10)"
        }, 
        {
            "execution_count": 15, 
            "cell_type": "code", 
            "metadata": {}, 
            "outputs": [
                {
                    "execution_count": 15, 
                    "metadata": {}, 
                    "data": {
                        "text/html": "<div>\n<style scoped>\n    .dataframe tbody tr th:only-of-type {\n        vertical-align: middle;\n    }\n\n    .dataframe tbody tr th {\n        vertical-align: top;\n    }\n\n    .dataframe thead th {\n        text-align: right;\n    }\n</style>\n<table border=\"1\" class=\"dataframe\">\n  <thead>\n    <tr style=\"text-align: right;\">\n      <th></th>\n      <th>PostalCode</th>\n      <th>Borough</th>\n      <th>Neighbourhood</th>\n    </tr>\n  </thead>\n  <tbody>\n    <tr>\n      <th>0</th>\n      <td>M1B</td>\n      <td>Scarborough</td>\n      <td>Rouge,Malvern</td>\n    </tr>\n    <tr>\n      <th>1</th>\n      <td>M1C</td>\n      <td>Scarborough</td>\n      <td>Highland Creek,Rouge Hill,Port Union</td>\n    </tr>\n    <tr>\n      <th>2</th>\n      <td>M1E</td>\n      <td>Scarborough</td>\n      <td>Guildwood,Morningside,West Hill</td>\n    </tr>\n    <tr>\n      <th>3</th>\n      <td>M1G</td>\n      <td>Scarborough</td>\n      <td>Woburn</td>\n    </tr>\n    <tr>\n      <th>4</th>\n      <td>M1H</td>\n      <td>Scarborough</td>\n      <td>Cedarbrae</td>\n    </tr>\n    <tr>\n      <th>5</th>\n      <td>M1J</td>\n      <td>Scarborough</td>\n      <td>Scarborough Village</td>\n    </tr>\n    <tr>\n      <th>6</th>\n      <td>M1K</td>\n      <td>Scarborough</td>\n      <td>East Birchmount Park,Ionview,Kennedy Park</td>\n    </tr>\n    <tr>\n      <th>7</th>\n      <td>M1L</td>\n      <td>Scarborough</td>\n      <td>Clairlea,Golden Mile,Oakridge</td>\n    </tr>\n    <tr>\n      <th>8</th>\n      <td>M1M</td>\n      <td>Scarborough</td>\n      <td>Cliffcrest,Cliffside,Scarborough Village West</td>\n    </tr>\n    <tr>\n      <th>9</th>\n      <td>M1N</td>\n      <td>Scarborough</td>\n      <td>Birch Cliff,Cliffside West</td>\n    </tr>\n  </tbody>\n</table>\n</div>", 
                        "text/plain": "  PostalCode      Borough                                  Neighbourhood\n0        M1B  Scarborough                                  Rouge,Malvern\n1        M1C  Scarborough           Highland Creek,Rouge Hill,Port Union\n2        M1E  Scarborough                Guildwood,Morningside,West Hill\n3        M1G  Scarborough                                         Woburn\n4        M1H  Scarborough                                      Cedarbrae\n5        M1J  Scarborough                            Scarborough Village\n6        M1K  Scarborough      East Birchmount Park,Ionview,Kennedy Park\n7        M1L  Scarborough                  Clairlea,Golden Mile,Oakridge\n8        M1M  Scarborough  Cliffcrest,Cliffside,Scarborough Village West\n9        M1N  Scarborough                     Birch Cliff,Cliffside West"
                    }, 
                    "output_type": "execute_result"
                }
            ], 
            "source": "# Group neighborhoods with same values for Postalcode and Borough\n\ntoronto_Df2 = toronto_Df2.groupby(['PostalCode','Borough'])['Neighbourhood'].apply(','.join).reset_index()\ntoronto_Df2.head(10)"
        }, 
        {
            "execution_count": 16, 
            "cell_type": "code", 
            "metadata": {}, 
            "outputs": [
                {
                    "execution_count": 16, 
                    "metadata": {}, 
                    "data": {
                        "text/plain": "(103, 3)"
                    }, 
                    "output_type": "execute_result"
                }
            ], 
            "source": "# Dimensions of the required dataframe (after joining)\n\ntoronto_Df2.shape"
        }
    ], 
    "metadata": {
        "kernelspec": {
            "display_name": "Python 3.5", 
            "name": "python3", 
            "language": "python"
        }, 
        "language_info": {
            "mimetype": "text/x-python", 
            "nbconvert_exporter": "python", 
            "version": "3.5.5", 
            "name": "python", 
            "file_extension": ".py", 
            "pygments_lexer": "ipython3", 
            "codemirror_mode": {
                "version": 3, 
                "name": "ipython"
            }
        }
    }, 
    "nbformat": 4
}